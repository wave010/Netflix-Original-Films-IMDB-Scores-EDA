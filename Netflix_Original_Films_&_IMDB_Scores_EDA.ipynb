{
  "nbformat": 4,
  "nbformat_minor": 0,
  "metadata": {
    "colab": {
      "provenance": [],
      "authorship_tag": "ABX9TyPtp8G5O4mfoXZZZpHgXUB6",
      "include_colab_link": true
    },
    "kernelspec": {
      "name": "python3",
      "display_name": "Python 3"
    },
    "language_info": {
      "name": "python"
    }
  },
  "cells": [
    {
      "cell_type": "markdown",
      "metadata": {
        "id": "view-in-github",
        "colab_type": "text"
      },
      "source": [
        "<a href=\"https://colab.research.google.com/github/wave010/Netflix-Original-Films-IMDB-Scores-EDA/blob/main/Netflix_Original_Films_%26_IMDB_Scores_EDA.ipynb\" target=\"_parent\"><img src=\"https://colab.research.google.com/assets/colab-badge.svg\" alt=\"Open In Colab\"/></a>"
      ]
    },
    {
      "cell_type": "markdown",
      "metadata": {
        "id": "kcmUfj04yOHo"
      },
      "source": [
        " **Data Science Project**\n",
        "1.  นายถิรวัฒน์     พงษ์สิมา           รหัสนักศึกษา 633020393-2\n",
        "2.  นายนราธิป      พิเชียรเศวตธารา รหัสนักศึกษา 633020402-7"
      ]
    },
    {
      "cell_type": "markdown",
      "metadata": {
        "id": "2uLJ1TdWBBAf"
      },
      "source": [
        "**ทำไมปัญหาที่นักศึกษาเลือกถึงน่าสนใจ**\n",
        "\n",
        " ประเภทและหมวดหมู่เป็นปัจจัยสำคัญในการเลือกชมภาพยนตร์ เพราะผู้ชมบางคนชื่นชอบภาพยนตร์เเต่ละประเภทเเตกต่างกัน ประเภทการชมภาพยนตร์ยังช่วยจำเเนกหมวดหมู่เเละการให้คะเเนน หากเราสามารถทราบจำนวนผู้ชื่นชอบภาพยนตร์เเต่ละประเภท เราสามารถนำข้อมูลนี้มาวิเคราะห์ ซึ่งข้อมูลที่ได้อาจเป็นประโยชน์สำหรับการวางเเผนสร้างภาพยนตร์เเต่ละประเภทตามที่ผู้ชมส่วนใหญ่ชื่นชอบ ดังนั้นกลุ่มของพวกเราจึงได้นำ Dataset Netflix Original Films & IMDB Scores  มาวิเคราะห์"
      ]
    },
    {
      "cell_type": "markdown",
      "metadata": {
        "id": "oQTjsGfjcmui"
      },
      "source": [
        "**คำถามที่น่าสนใจ**\n",
        "\n",
        "\n",
        "1.   ภาพยนต์ส่วนใหญ่มีเวลาเล่นอยู่ที่เท่าใด\n",
        "2.   ประเภทของภาพยนต์ที่นำมาฉายส่วนใหญ่เป็นประเภทอะไร (Top 20)\n",
        "3.   ภาษาของภาพยนต์ที่นำมาฉายส่วนมากเป็นภาษาอะไร (Top 20 )\n",
        "4.   ภาพยนต์ที่มีคะแนนมากว่าค่าเฉลี่ย IMDB เป็นประเภทอะไร\n",
        "5.   จำนวนภาพยนต์ที่ออกมาในแต่ละปีมีจำนวนกี่เรื่อง \n",
        "6.  ลักษณะกราฟของค่าเฉลี่ยคะแนน IMDB score ในแต่ละปีเป็นอย่างไร\n",
        "7.  จำนวนภาพยนต์ถูกนำออกมาฉายในแต่ละเดือน เดือนใดมากที่สุด\n",
        "\n",
        "\n",
        "\n",
        "\n"
      ]
    },
    {
      "cell_type": "markdown",
      "metadata": {
        "id": "vXOU0R92BbVn"
      },
      "source": [
        "**ข้อมูลที่เกี่ยวข้องใช้ในการตอบคำถามที่สนใจ**\n",
        "\n",
        "ข้อมูลที่จะใช้ในการศึกษาคือ Netflix Original Films & IMDB Scores ที่ได้จาก Kaggle\n"
      ]
    },
    {
      "cell_type": "markdown",
      "metadata": {
        "id": "jGKb7-QLB_Bb"
      },
      "source": [
        "1. Dataset Netflix Original Films & IMDB Scores มีข้อมูลที่จำเป็นในการนำมาจัด \n",
        "ทำโครงงานนั่นคือมีฟิลด์ทั้งหมด 6 ฟิลด์ \n",
        "2. Dataset ชุดข้อมูลนี้ประกอบด้วยภาพยนตร์ต้นฉบับของ Netflix\n",
        " ทั้งหมดที่ออกฉายจนถึงในวันที่ 1 มิถุนายน 2021"
      ]
    },
    {
      "cell_type": "markdown",
      "metadata": {
        "id": "zjUhCxdTCPeO"
      },
      "source": [
        "แหล่งที่มมาของข้อมูล [ลิงก์](https://www.kaggle.com/luiscorter/netflix-original-films-imdb-scores)"
      ]
    },
    {
      "cell_type": "markdown",
      "metadata": {
        "id": "2lrWEb6Qyj9I"
      },
      "source": [
        "#NetflixOriginals"
      ]
    },
    {
      "cell_type": "code",
      "metadata": {
        "id": "i2Z4EhgKyTos",
        "colab": {
          "base_uri": "https://localhost:8080/"
        },
        "outputId": "e0a0ee66-80da-44ad-8ba1-4b07fab67e42"
      },
      "source": [
        "#โหลด Dataset จาก google drive\n",
        "!gdown --id 1Xxj2A1kjY9F37A-tMoT1wBMSL9W8B2zc"
      ],
      "execution_count": null,
      "outputs": [
        {
          "output_type": "stream",
          "name": "stdout",
          "text": [
            "Downloading...\n",
            "From: https://drive.google.com/uc?id=1Xxj2A1kjY9F37A-tMoT1wBMSL9W8B2zc\n",
            "To: /content/NetflixOriginals.zip\n",
            "\r  0% 0.00/12.7k [00:00<?, ?B/s]\r100% 12.7k/12.7k [00:00<00:00, 21.8MB/s]\n"
          ]
        }
      ]
    },
    {
      "cell_type": "code",
      "metadata": {
        "colab": {
          "base_uri": "https://localhost:8080/"
        },
        "id": "7Sl-2mo-sWCF",
        "outputId": "65bd1dc6-0d4e-4089-a356-faf0d83c5bcb"
      },
      "source": [
        "#unzip file\n",
        "!unzip NetflixOriginals.zip"
      ],
      "execution_count": null,
      "outputs": [
        {
          "output_type": "stream",
          "name": "stdout",
          "text": [
            "Archive:  NetflixOriginals.zip\n",
            "  inflating: NetflixOriginals.csv    \n"
          ]
        }
      ]
    },
    {
      "cell_type": "code",
      "metadata": {
        "id": "j-de64Y2Vqom"
      },
      "source": [
        "import matplotlib.pyplot as plt\n",
        "import pandas as pd\n",
        "import seaborn as sns"
      ],
      "execution_count": null,
      "outputs": []
    },
    {
      "cell_type": "code",
      "metadata": {
        "colab": {
          "base_uri": "https://localhost:8080/",
          "height": 206
        },
        "id": "VuwtEkHDsiVU",
        "outputId": "1d3f46ef-559c-4022-b768-79c09b625682"
      },
      "source": [
        "#สร้าง dataFrame ขึ้นเพื่อ นำไปใช้ในการจัดการข้อมูล\n",
        "df = pd.read_csv(\"NetflixOriginals.csv\",engine='python')   # engine=’python’ to pd.read_csv ลบการเตือน\n",
        "df.head() # แสดงข้อมูล 5 แถวแรก"
      ],
      "execution_count": null,
      "outputs": [
        {
          "output_type": "execute_result",
          "data": {
            "text/html": [
              "<div>\n",
              "<style scoped>\n",
              "    .dataframe tbody tr th:only-of-type {\n",
              "        vertical-align: middle;\n",
              "    }\n",
              "\n",
              "    .dataframe tbody tr th {\n",
              "        vertical-align: top;\n",
              "    }\n",
              "\n",
              "    .dataframe thead th {\n",
              "        text-align: right;\n",
              "    }\n",
              "</style>\n",
              "<table border=\"1\" class=\"dataframe\">\n",
              "  <thead>\n",
              "    <tr style=\"text-align: right;\">\n",
              "      <th></th>\n",
              "      <th>Title</th>\n",
              "      <th>Genre</th>\n",
              "      <th>Premiere</th>\n",
              "      <th>Runtime</th>\n",
              "      <th>IMDB Score</th>\n",
              "      <th>Language</th>\n",
              "    </tr>\n",
              "  </thead>\n",
              "  <tbody>\n",
              "    <tr>\n",
              "      <th>0</th>\n",
              "      <td>Enter the Anime</td>\n",
              "      <td>Documentary</td>\n",
              "      <td>August 5, 2019</td>\n",
              "      <td>58</td>\n",
              "      <td>2.5</td>\n",
              "      <td>English/Japanese</td>\n",
              "    </tr>\n",
              "    <tr>\n",
              "      <th>1</th>\n",
              "      <td>Dark Forces</td>\n",
              "      <td>Thriller</td>\n",
              "      <td>August 21, 2020</td>\n",
              "      <td>81</td>\n",
              "      <td>2.6</td>\n",
              "      <td>Spanish</td>\n",
              "    </tr>\n",
              "    <tr>\n",
              "      <th>2</th>\n",
              "      <td>The App</td>\n",
              "      <td>Science fiction/Drama</td>\n",
              "      <td>December 26, 2019</td>\n",
              "      <td>79</td>\n",
              "      <td>2.6</td>\n",
              "      <td>Italian</td>\n",
              "    </tr>\n",
              "    <tr>\n",
              "      <th>3</th>\n",
              "      <td>The Open House</td>\n",
              "      <td>Horror thriller</td>\n",
              "      <td>January 19, 2018</td>\n",
              "      <td>94</td>\n",
              "      <td>3.2</td>\n",
              "      <td>English</td>\n",
              "    </tr>\n",
              "    <tr>\n",
              "      <th>4</th>\n",
              "      <td>Kaali Khuhi</td>\n",
              "      <td>Mystery</td>\n",
              "      <td>October 30, 2020</td>\n",
              "      <td>90</td>\n",
              "      <td>3.4</td>\n",
              "      <td>Hindi</td>\n",
              "    </tr>\n",
              "  </tbody>\n",
              "</table>\n",
              "</div>"
            ],
            "text/plain": [
              "             Title                  Genre  ... IMDB Score          Language\n",
              "0  Enter the Anime            Documentary  ...        2.5  English/Japanese\n",
              "1      Dark Forces               Thriller  ...        2.6           Spanish\n",
              "2          The App  Science fiction/Drama  ...        2.6           Italian\n",
              "3   The Open House        Horror thriller  ...        3.2           English\n",
              "4      Kaali Khuhi                Mystery  ...        3.4             Hindi\n",
              "\n",
              "[5 rows x 6 columns]"
            ]
          },
          "metadata": {},
          "execution_count": 4
        }
      ]
    },
    {
      "cell_type": "code",
      "metadata": {
        "colab": {
          "base_uri": "https://localhost:8080/"
        },
        "id": "rlfuNnxCZWuV",
        "outputId": "6e3eb4ec-6498-452c-9cc2-847b3a80e5ff"
      },
      "source": [
        "df.shape #584 แถว 6 คอลัมน์"
      ],
      "execution_count": null,
      "outputs": [
        {
          "output_type": "execute_result",
          "data": {
            "text/plain": [
              "(584, 6)"
            ]
          },
          "metadata": {},
          "execution_count": 5
        }
      ]
    },
    {
      "cell_type": "code",
      "metadata": {
        "colab": {
          "base_uri": "https://localhost:8080/"
        },
        "id": "i-DVlDDauOrI",
        "outputId": "d89cc7e5-9b41-4cf6-c868-61fe9c90a239"
      },
      "source": [
        "df.info() #ตรวจสอบชุดข้อมูลใน dataFrame"
      ],
      "execution_count": null,
      "outputs": [
        {
          "output_type": "stream",
          "name": "stdout",
          "text": [
            "<class 'pandas.core.frame.DataFrame'>\n",
            "RangeIndex: 584 entries, 0 to 583\n",
            "Data columns (total 6 columns):\n",
            " #   Column      Non-Null Count  Dtype  \n",
            "---  ------      --------------  -----  \n",
            " 0   Title       584 non-null    object \n",
            " 1   Genre       584 non-null    object \n",
            " 2   Premiere    584 non-null    object \n",
            " 3   Runtime     584 non-null    int64  \n",
            " 4   IMDB Score  584 non-null    float64\n",
            " 5   Language    584 non-null    object \n",
            "dtypes: float64(1), int64(1), object(4)\n",
            "memory usage: 27.5+ KB\n"
          ]
        }
      ]
    },
    {
      "cell_type": "markdown",
      "metadata": {
        "id": "Lv01qYhmxF5t"
      },
      "source": [
        "NetflixOriginals มีข้อมูลทั้งหมด 584 เรคอร์ด และ 6 คอลัมน์ ได้แก่ Title Genre Premiere Runtime IMDB Score Language \n",
        "\n",
        "และข้อมูลแต่ละเรอคอร์ดมีข้อมูลครบ"
      ]
    },
    {
      "cell_type": "code",
      "metadata": {
        "colab": {
          "base_uri": "https://localhost:8080/"
        },
        "id": "mMQ_g8fSM4BB",
        "outputId": "fd7173aa-74b9-429d-8673-0f9f05ccda8b"
      },
      "source": [
        "df.nunique() #จำนวนค่าที่มีเพียงค่าเดียว  ค่าไม่ซ้ำ"
      ],
      "execution_count": null,
      "outputs": [
        {
          "output_type": "execute_result",
          "data": {
            "text/plain": [
              "Title         584\n",
              "Genre         115\n",
              "Premiere      390\n",
              "Runtime       124\n",
              "IMDB Score     54\n",
              "Language       38\n",
              "dtype: int64"
            ]
          },
          "metadata": {},
          "execution_count": 7
        }
      ]
    },
    {
      "cell_type": "code",
      "metadata": {
        "colab": {
          "base_uri": "https://localhost:8080/",
          "height": 300
        },
        "id": "v6gFU2Mkxw8O",
        "outputId": "fd2539ca-dde0-4b8c-d695-b2939175291d"
      },
      "source": [
        "df.describe() #ตรวจสอบข้อมูลทางสถิติ"
      ],
      "execution_count": null,
      "outputs": [
        {
          "output_type": "execute_result",
          "data": {
            "text/html": [
              "<div>\n",
              "<style scoped>\n",
              "    .dataframe tbody tr th:only-of-type {\n",
              "        vertical-align: middle;\n",
              "    }\n",
              "\n",
              "    .dataframe tbody tr th {\n",
              "        vertical-align: top;\n",
              "    }\n",
              "\n",
              "    .dataframe thead th {\n",
              "        text-align: right;\n",
              "    }\n",
              "</style>\n",
              "<table border=\"1\" class=\"dataframe\">\n",
              "  <thead>\n",
              "    <tr style=\"text-align: right;\">\n",
              "      <th></th>\n",
              "      <th>Runtime</th>\n",
              "      <th>IMDB Score</th>\n",
              "    </tr>\n",
              "  </thead>\n",
              "  <tbody>\n",
              "    <tr>\n",
              "      <th>count</th>\n",
              "      <td>584.000000</td>\n",
              "      <td>584.000000</td>\n",
              "    </tr>\n",
              "    <tr>\n",
              "      <th>mean</th>\n",
              "      <td>93.577055</td>\n",
              "      <td>6.271747</td>\n",
              "    </tr>\n",
              "    <tr>\n",
              "      <th>std</th>\n",
              "      <td>27.761683</td>\n",
              "      <td>0.979256</td>\n",
              "    </tr>\n",
              "    <tr>\n",
              "      <th>min</th>\n",
              "      <td>4.000000</td>\n",
              "      <td>2.500000</td>\n",
              "    </tr>\n",
              "    <tr>\n",
              "      <th>25%</th>\n",
              "      <td>86.000000</td>\n",
              "      <td>5.700000</td>\n",
              "    </tr>\n",
              "    <tr>\n",
              "      <th>50%</th>\n",
              "      <td>97.000000</td>\n",
              "      <td>6.350000</td>\n",
              "    </tr>\n",
              "    <tr>\n",
              "      <th>75%</th>\n",
              "      <td>108.000000</td>\n",
              "      <td>7.000000</td>\n",
              "    </tr>\n",
              "    <tr>\n",
              "      <th>max</th>\n",
              "      <td>209.000000</td>\n",
              "      <td>9.000000</td>\n",
              "    </tr>\n",
              "  </tbody>\n",
              "</table>\n",
              "</div>"
            ],
            "text/plain": [
              "          Runtime  IMDB Score\n",
              "count  584.000000  584.000000\n",
              "mean    93.577055    6.271747\n",
              "std     27.761683    0.979256\n",
              "min      4.000000    2.500000\n",
              "25%     86.000000    5.700000\n",
              "50%     97.000000    6.350000\n",
              "75%    108.000000    7.000000\n",
              "max    209.000000    9.000000"
            ]
          },
          "metadata": {},
          "execution_count": 8
        }
      ]
    },
    {
      "cell_type": "code",
      "metadata": {
        "colab": {
          "base_uri": "https://localhost:8080/",
          "height": 175
        },
        "id": "dZMEbF1glcnN",
        "outputId": "55130db0-6c5a-43e4-94f8-c1ae061faba2"
      },
      "source": [
        "df.describe(include=\"O\") "
      ],
      "execution_count": null,
      "outputs": [
        {
          "output_type": "execute_result",
          "data": {
            "text/html": [
              "<div>\n",
              "<style scoped>\n",
              "    .dataframe tbody tr th:only-of-type {\n",
              "        vertical-align: middle;\n",
              "    }\n",
              "\n",
              "    .dataframe tbody tr th {\n",
              "        vertical-align: top;\n",
              "    }\n",
              "\n",
              "    .dataframe thead th {\n",
              "        text-align: right;\n",
              "    }\n",
              "</style>\n",
              "<table border=\"1\" class=\"dataframe\">\n",
              "  <thead>\n",
              "    <tr style=\"text-align: right;\">\n",
              "      <th></th>\n",
              "      <th>Title</th>\n",
              "      <th>Genre</th>\n",
              "      <th>Premiere</th>\n",
              "      <th>Language</th>\n",
              "    </tr>\n",
              "  </thead>\n",
              "  <tbody>\n",
              "    <tr>\n",
              "      <th>count</th>\n",
              "      <td>584</td>\n",
              "      <td>584</td>\n",
              "      <td>584</td>\n",
              "      <td>584</td>\n",
              "    </tr>\n",
              "    <tr>\n",
              "      <th>unique</th>\n",
              "      <td>584</td>\n",
              "      <td>115</td>\n",
              "      <td>390</td>\n",
              "      <td>38</td>\n",
              "    </tr>\n",
              "    <tr>\n",
              "      <th>top</th>\n",
              "      <td>Taylor Swift: Reputation Stadium Tour</td>\n",
              "      <td>Documentary</td>\n",
              "      <td>October 2, 2020</td>\n",
              "      <td>English</td>\n",
              "    </tr>\n",
              "    <tr>\n",
              "      <th>freq</th>\n",
              "      <td>1</td>\n",
              "      <td>159</td>\n",
              "      <td>6</td>\n",
              "      <td>401</td>\n",
              "    </tr>\n",
              "  </tbody>\n",
              "</table>\n",
              "</div>"
            ],
            "text/plain": [
              "                                        Title  ... Language\n",
              "count                                     584  ...      584\n",
              "unique                                    584  ...       38\n",
              "top     Taylor Swift: Reputation Stadium Tour  ...  English\n",
              "freq                                        1  ...      401\n",
              "\n",
              "[4 rows x 4 columns]"
            ]
          },
          "metadata": {},
          "execution_count": 9
        }
      ]
    },
    {
      "cell_type": "markdown",
      "metadata": {
        "id": "slSCjzWuqg60"
      },
      "source": [
        "# **Exploratory Data Analysis**"
      ]
    },
    {
      "cell_type": "markdown",
      "metadata": {
        "id": "lhmi71TusGnY"
      },
      "source": [
        "**Data cleaning process:**"
      ]
    },
    {
      "cell_type": "code",
      "metadata": {
        "id": "zQ6B-f6LsIMH",
        "colab": {
          "base_uri": "https://localhost:8080/"
        },
        "outputId": "de0aa951-e86c-4e92-a6e1-d9391d0b47f8"
      },
      "source": [
        "#ทำการ clean ข้อมูลคอลัมน์ที่ชื่อ Genre  \n",
        "print(\"Befoer clean Genre\", df['Genre'].nunique())\n",
        "\n",
        "df['Genre'].replace(['Biopic','Historical-epic',  'Making-of'],'Documentary',inplace=True)\n",
        "\n",
        "df['Genre'].replace(['Horror', 'Thriller', 'Mystery', 'Heist film/Thriller', 'Horror anthology','Political thriller', 'Psychological thriller', \n",
        "                       'Science fiction/Thriller', 'Zombie/Heist', 'Psychological horror', 'Romantic thriller',\n",
        "                       'Horror-thriller', 'Horror/Crime drama', 'Crime thriller', 'Spy thriller',], 'Horror thriller', inplace=True)\n",
        "\n",
        "df['Genre'].replace(['Action comedy', 'Heist', 'Western', 'Animation/Superhero', 'Action-thriller',  'Action/Comedy', 'Action/Science fiction',\n",
        "                       'War', 'Science fiction/Action', 'Action thriller','Superhero/Action','Action-adventure',],'Action', inplace=True)\n",
        "\n",
        "df['Genre'].replace(['Romantic comedy', 'Superhero-Comedy', 'Aftershow / Interview','Variety show','Comedy-drama', 'Comedy/Fantasy/Family','Adventure/Comedy',\n",
        "                       'Black comedy','Horror comedy', 'Dark comedy', 'Comedy horror', 'Mockumentary', 'Satire',  'One-man show', 'Comedy/Horror',  'Comedy mystery', \n",
        "                       'Christmas comedy', 'War-Comedy','Romantic comedy/Holiday', 'Dance comedy', 'Teen comedy horror',  'Variety Show', 'Hidden-camera prank comedy',\n",
        "                       'Biographical/Comedy',  'Christmas/Fantasy/Adventure/Comedy', 'Anthology/Dark comedy'],'Comedy', inplace=True)\n",
        "\n",
        "df['Genre'].replace(['Musical/Western/Fantasy', 'Christmas musical', 'Comedy / Musical', 'Christian musical', 'Concert Film','Musical comedy', 'Musical / Short'],'Musical', inplace=True)\n",
        "\n",
        "df['Genre'].replace(['Science fiction/Drama','Romance drama', 'Romantic drama', 'Romantic teenage drama', 'Crime drama', 'Psychological thriller drama','Romantic teen drama',\n",
        "                       'Teen comedy-drama', 'Romantic comedy-drama', 'Sports-drama', 'Drama/Horror',   'Family/Comedy-drama','War drama', 'Drama / Short', 'Mentalism special', \n",
        "                       'Drama-Comedy', 'Coming-of-age comedy-drama', 'Historical drama'],'Drama', inplace=True)\n",
        "\n",
        "df['Genre'].replace(['Family film',  'Romance',  'Family/Christmas musical'],'Family', inplace=True)\n",
        "\n",
        "df['Genre'].replace(['Animation' ,'Anime / Short', 'Stop Motion',  'Animation/Musical/Adventure', 'Animation / Musicial', 'Animation/Comedy/Adventure',\n",
        "\t'Anime/Fantasy', 'Animated musical comedy', 'Animation / Comedy', 'Animation / Science Fiction', 'Animation/Christmas/Comedy/Adventure'],'Animation', inplace=True)\n",
        "\n",
        "df['Genre'].replace(['Science fiction adventure','Supernatural drama','Science fiction/Mystery',  'Anime/Science fiction', 'Animation / Short','Science fiction thriller',],'Science fiction', inplace=True)\n",
        "\n",
        "df['Genre'].replace(['Superhero', 'Adventure-romance', 'Adventure', 'Urban fantasy'],'Fantasy',inplace=True)\n",
        "\n",
        "df['Genre'].replace('Sports film','sport', inplace=True)\n",
        "\n",
        "print(\"After clean Genre\", df['Genre'].nunique())"
      ],
      "execution_count": null,
      "outputs": [
        {
          "output_type": "stream",
          "name": "stdout",
          "text": [
            "Befoer clean Genre 115\n",
            "After clean Genre 11\n"
          ]
        }
      ]
    },
    {
      "cell_type": "code",
      "metadata": {
        "colab": {
          "base_uri": "https://localhost:8080/"
        },
        "id": "bIUUouNSXeM9",
        "outputId": "2352b6c6-f05d-422c-f9a4-cd957438564c"
      },
      "source": [
        "df.Language.unique()"
      ],
      "execution_count": null,
      "outputs": [
        {
          "output_type": "execute_result",
          "data": {
            "text/plain": [
              "array(['English/Japanese', 'Spanish', 'Italian', 'English', 'Hindi',\n",
              "       'Turkish', 'Korean', 'Indonesian', 'Malay', 'Dutch', 'French',\n",
              "       'English/Spanish', 'Portuguese', 'Filipino', 'German', 'Polish',\n",
              "       'Norwegian', 'Marathi', 'Thai', 'Swedish', 'Japanese',\n",
              "       'Spanish/Basque', 'Spanish/Catalan', 'English/Swedish',\n",
              "       'English/Taiwanese/Mandarin', 'Thia/English', 'English/Mandarin',\n",
              "       'Georgian', 'Bengali', 'Khmer/English/French', 'English/Hindi',\n",
              "       'Tamil', 'Spanish/English', 'English/Korean', 'English/Arabic',\n",
              "       'English/Russian', 'English/Akan', 'English/Ukranian/Russian'],\n",
              "      dtype=object)"
            ]
          },
          "metadata": {},
          "execution_count": 11
        }
      ]
    },
    {
      "cell_type": "code",
      "metadata": {
        "colab": {
          "base_uri": "https://localhost:8080/"
        },
        "id": "IHtgeX0GX4T3",
        "outputId": "343d8291-5530-421a-e8b6-d19345fea72a"
      },
      "source": [
        "print(\"Before clean Language\", df['Language'].nunique())\n",
        "\n",
        "df['Language'].replace(['English/Japanese', 'English/Spanish', 'English/Taiwanese/Mandarin', 'English/Mandarin', 'English/Swedish', 'Khmer/English/French'\n",
        ",'English/Hindi', 'English/Korean', 'English/Arabic','English/Russian', 'English/Akan', 'English/Ukranian/Russian'],'English',inplace=True)\n",
        "\n",
        "df['Language'].replace(['Spanish/Basque', 'Spanish/Catalan', 'Spanish/English'],'Spanish',inplace=True)\n",
        "\n",
        "df['Language'].replace('Thia/English','Thai',inplace=True)\n",
        "\n",
        "print(\"After clean Language\", df['Language'].nunique())"
      ],
      "execution_count": null,
      "outputs": [
        {
          "output_type": "stream",
          "name": "stdout",
          "text": [
            "Before clean Language 38\n",
            "After clean Language 22\n"
          ]
        }
      ]
    },
    {
      "cell_type": "code",
      "metadata": {
        "colab": {
          "base_uri": "https://localhost:8080/",
          "height": 331
        },
        "id": "PL6XtwhGm7N9",
        "outputId": "7a8bf824-7012-4076-d227-3bf6a466fa59"
      },
      "source": [
        "#เพิ่มคอลัมน์\n",
        "df['Premiere'] = pd.to_datetime(df['Premiere']) #เปลี่ยนคอลัมน์ premiere ให้เป็นชนิดข้อมูล Datetime\n",
        "df['Year'] = df['Premiere'].dt.year #เพิ่มคอลัมน์ year \n",
        "df['Month'] = df['Premiere'].dt.month #เพิ่มคอลัมน์ month\n",
        "df['Date'] = df['Premiere'].dt.day #เพิ่มคอลัมน์ date\n",
        "df.head(9)"
      ],
      "execution_count": null,
      "outputs": [
        {
          "output_type": "execute_result",
          "data": {
            "text/html": [
              "<div>\n",
              "<style scoped>\n",
              "    .dataframe tbody tr th:only-of-type {\n",
              "        vertical-align: middle;\n",
              "    }\n",
              "\n",
              "    .dataframe tbody tr th {\n",
              "        vertical-align: top;\n",
              "    }\n",
              "\n",
              "    .dataframe thead th {\n",
              "        text-align: right;\n",
              "    }\n",
              "</style>\n",
              "<table border=\"1\" class=\"dataframe\">\n",
              "  <thead>\n",
              "    <tr style=\"text-align: right;\">\n",
              "      <th></th>\n",
              "      <th>Title</th>\n",
              "      <th>Genre</th>\n",
              "      <th>Premiere</th>\n",
              "      <th>Runtime</th>\n",
              "      <th>IMDB Score</th>\n",
              "      <th>Language</th>\n",
              "      <th>Year</th>\n",
              "      <th>Month</th>\n",
              "      <th>Date</th>\n",
              "    </tr>\n",
              "  </thead>\n",
              "  <tbody>\n",
              "    <tr>\n",
              "      <th>0</th>\n",
              "      <td>Enter the Anime</td>\n",
              "      <td>Documentary</td>\n",
              "      <td>2019-08-05</td>\n",
              "      <td>58</td>\n",
              "      <td>2.5</td>\n",
              "      <td>English</td>\n",
              "      <td>2019</td>\n",
              "      <td>8</td>\n",
              "      <td>5</td>\n",
              "    </tr>\n",
              "    <tr>\n",
              "      <th>1</th>\n",
              "      <td>Dark Forces</td>\n",
              "      <td>Horror thriller</td>\n",
              "      <td>2020-08-21</td>\n",
              "      <td>81</td>\n",
              "      <td>2.6</td>\n",
              "      <td>Spanish</td>\n",
              "      <td>2020</td>\n",
              "      <td>8</td>\n",
              "      <td>21</td>\n",
              "    </tr>\n",
              "    <tr>\n",
              "      <th>2</th>\n",
              "      <td>The App</td>\n",
              "      <td>Drama</td>\n",
              "      <td>2019-12-26</td>\n",
              "      <td>79</td>\n",
              "      <td>2.6</td>\n",
              "      <td>Italian</td>\n",
              "      <td>2019</td>\n",
              "      <td>12</td>\n",
              "      <td>26</td>\n",
              "    </tr>\n",
              "    <tr>\n",
              "      <th>3</th>\n",
              "      <td>The Open House</td>\n",
              "      <td>Horror thriller</td>\n",
              "      <td>2018-01-19</td>\n",
              "      <td>94</td>\n",
              "      <td>3.2</td>\n",
              "      <td>English</td>\n",
              "      <td>2018</td>\n",
              "      <td>1</td>\n",
              "      <td>19</td>\n",
              "    </tr>\n",
              "    <tr>\n",
              "      <th>4</th>\n",
              "      <td>Kaali Khuhi</td>\n",
              "      <td>Horror thriller</td>\n",
              "      <td>2020-10-30</td>\n",
              "      <td>90</td>\n",
              "      <td>3.4</td>\n",
              "      <td>Hindi</td>\n",
              "      <td>2020</td>\n",
              "      <td>10</td>\n",
              "      <td>30</td>\n",
              "    </tr>\n",
              "    <tr>\n",
              "      <th>5</th>\n",
              "      <td>Drive</td>\n",
              "      <td>Action</td>\n",
              "      <td>2019-11-01</td>\n",
              "      <td>147</td>\n",
              "      <td>3.5</td>\n",
              "      <td>Hindi</td>\n",
              "      <td>2019</td>\n",
              "      <td>11</td>\n",
              "      <td>1</td>\n",
              "    </tr>\n",
              "    <tr>\n",
              "      <th>6</th>\n",
              "      <td>Leyla Everlasting</td>\n",
              "      <td>Comedy</td>\n",
              "      <td>2020-12-04</td>\n",
              "      <td>112</td>\n",
              "      <td>3.7</td>\n",
              "      <td>Turkish</td>\n",
              "      <td>2020</td>\n",
              "      <td>12</td>\n",
              "      <td>4</td>\n",
              "    </tr>\n",
              "    <tr>\n",
              "      <th>7</th>\n",
              "      <td>The Last Days of American Crime</td>\n",
              "      <td>Horror thriller</td>\n",
              "      <td>2020-06-05</td>\n",
              "      <td>149</td>\n",
              "      <td>3.7</td>\n",
              "      <td>English</td>\n",
              "      <td>2020</td>\n",
              "      <td>6</td>\n",
              "      <td>5</td>\n",
              "    </tr>\n",
              "    <tr>\n",
              "      <th>8</th>\n",
              "      <td>Paradox</td>\n",
              "      <td>Musical</td>\n",
              "      <td>2018-03-23</td>\n",
              "      <td>73</td>\n",
              "      <td>3.9</td>\n",
              "      <td>English</td>\n",
              "      <td>2018</td>\n",
              "      <td>3</td>\n",
              "      <td>23</td>\n",
              "    </tr>\n",
              "  </tbody>\n",
              "</table>\n",
              "</div>"
            ],
            "text/plain": [
              "                             Title            Genre  ... Month  Date\n",
              "0                  Enter the Anime      Documentary  ...     8     5\n",
              "1                      Dark Forces  Horror thriller  ...     8    21\n",
              "2                          The App            Drama  ...    12    26\n",
              "3                   The Open House  Horror thriller  ...     1    19\n",
              "4                      Kaali Khuhi  Horror thriller  ...    10    30\n",
              "5                            Drive           Action  ...    11     1\n",
              "6                Leyla Everlasting           Comedy  ...    12     4\n",
              "7  The Last Days of American Crime  Horror thriller  ...     6     5\n",
              "8                          Paradox          Musical  ...     3    23\n",
              "\n",
              "[9 rows x 9 columns]"
            ]
          },
          "metadata": {},
          "execution_count": 13
        }
      ]
    },
    {
      "cell_type": "markdown",
      "metadata": {
        "id": "RTA82BZbrtr8"
      },
      "source": [
        "**ตอบคำถามที่น่าสนใจ**"
      ]
    },
    {
      "cell_type": "markdown",
      "metadata": {
        "id": "bdaZMAqTF9KG"
      },
      "source": [
        "**1.   ภาพยนต์ส่วนใหญ่มีเวลาเล่นอยู่ที่เท่าใด**"
      ]
    },
    {
      "cell_type": "code",
      "metadata": {
        "id": "-S1b4cf6S_JQ"
      },
      "source": [
        "#ตรวจสอบว่า ส่วนมากภาพยนต์มีเวลาเล่นอยู่ในช่วงใด\n",
        "less60 = df.loc[df['Runtime']<60,['Title']].count() #ภาพยนต์ที่มีเวลาน้อยกว่า 1 ชั่วโมง \n",
        "between60and120 =df.loc[(df['Runtime']>=60) & (df['Runtime']<120), ['Title']].count() #ภาพยนต์ที่มีเวลามากกว่าเท่ากับ 1 ชั่วโมง แต่น้อยกว่า 2 ชั่วโมง\n",
        "between120and180 = df.loc[(df['Runtime']>=120) & (df[\"Runtime\"]<180),['Title']].count() #ภาพยนต์ที่มีเวลามากกว่าเท่ากับ 2 ชั่วโมง แต่น้อยกว่า 3 ชั่วโมง\n",
        "more180 = df.loc[df['Runtime']>=180,['Title'] ] .count()#ภาพยนต์ที่มีเวลามากกว่า 3 ชั่วโมง"
      ],
      "execution_count": null,
      "outputs": []
    },
    {
      "cell_type": "markdown",
      "metadata": {
        "id": "HfrQDBheEJ0D"
      },
      "source": [
        "ทำการแบ่งข้อมูลออกเป็นช่วง 4 ช่วง ดังนี้ \n",
        "1. ภาพยนต์ที่มีเวลาน้อยกว่า 1 ชั่วโมง \n",
        "2. ภาพยนต์ที่มีเวลามากกว่าเท่ากับ 1 ชั่วโมง แต่น้อยกว่า 2 ชั่วโมง\n",
        "3. ภาพยนต์ที่มีเวลามากกว่าเท่ากับ 2 ชั่วโมง แต่น้อยกว่า 3 ชั่วโมง\n",
        "4. ภาพยนต์ที่มีเวลามากกว่า 3 ชั่วโมง\n",
        "\n",
        "แล้วทำการนับข้อมูลว่ามีข้อมูลที่ตรงกับช่วงเวลาที่กำหนดไว้ มีจำนวนเท่าใดในแต่ละช่วงเวลานั้น"
      ]
    },
    {
      "cell_type": "code",
      "metadata": {
        "colab": {
          "base_uri": "https://localhost:8080/",
          "height": 511
        },
        "id": "d2ORCuE9VxGP",
        "outputId": "b640335c-8e8c-4dd3-c307-37290e772876"
      },
      "source": [
        "#pie plot Runtime data \n",
        "run_plt = [less60, between60and120, between120and180, more180 ] #  ข้อมูลสำหรับสร้างแผนภูมิวงกลม\n",
        "name_run_plt = ['runtime<60', '60<=runtime<120','120<=runtime<180','runtime>180'] #ช่วง runtime\n",
        "color = [\"purple\", \"red\", \"cyan\",'yellow'] #ชุดสี\n",
        "plt.pie(run_plt, labels=name_run_plt, autopct=\"%.2f%%\", colors=color, shadow=True)"
      ],
      "execution_count": null,
      "outputs": [
        {
          "output_type": "stream",
          "name": "stderr",
          "text": [
            "/usr/local/lib/python3.7/dist-packages/ipykernel_launcher.py:5: MatplotlibDeprecationWarning: Non-1D inputs to pie() are currently squeeze()d, but this behavior is deprecated since 3.1 and will be removed in 3.3; pass a 1D array instead.\n",
            "  \"\"\"\n"
          ]
        },
        {
          "output_type": "execute_result",
          "data": {
            "text/plain": [
              "([<matplotlib.patches.Wedge at 0x7fe28b9baf90>,\n",
              "  <matplotlib.patches.Wedge at 0x7fe28b9bba90>,\n",
              "  <matplotlib.patches.Wedge at 0x7fe28b9bc4d0>,\n",
              "  <matplotlib.patches.Wedge at 0x7fe28b9be250>],\n",
              " [Text(1.0250894658768859, 0.3989882040214237, 'runtime<60'),\n",
              "  Text(-1.0996021189093843, 0.029583442835355994, '60<=runtime<120'),\n",
              "  Text(1.01167972311522, -0.4318612483628417, '120<=runtime<180'),\n",
              "  Text(1.0999840830699592, -0.005917515757567929, 'runtime>180')],\n",
              " [Text(0.5591397086601194, 0.21762992946623108, '11.82%'),\n",
              "  Text(-0.5997829739505731, 0.01613642336473963, '75.51%'),\n",
              "  Text(0.5518253035173927, -0.23556068092518634, '12.50%'),\n",
              "  Text(0.5999913180381595, -0.0032277358677643246, '0.17%')])"
            ]
          },
          "metadata": {},
          "execution_count": 15
        },
        {
          "output_type": "display_data",
          "data": {
            "image/png": "[encoded data removed]",
            "text/plain": [
              "<Figure size 432x288 with 1 Axes>"
            ]
          },
          "metadata": {}
        }
      ]
    },
    {
      "cell_type": "markdown",
      "metadata": {
        "id": "Mg8KejIsF3eq"
      },
      "source": [
        "นำจับนวนข้อมูลที่ได้มาสร้างเป็นแผนภูมิวงกลม ทราบว่า\n",
        "1. ภาพยนต์ที่มีเวลาน้อยกว่า 1 ชั่วโมง  มีจำนวนข้อมูลที่สอดคล้อง 11.82%\n",
        "2. ภาพยนต์ที่มีเวลามากกว่าเท่ากับ 1 ชั่วโมง แต่น้อยกว่า 2 ชั่วโมง มีจำนวนข้อมูลที่สอดคล้อง 75.51%\n",
        "3. ภาพยนต์ที่มีเวลามากกว่าเท่ากับ 2 ชั่วโมง แต่น้อยกว่า 3 ชั่วโมง มีจำนวนข้อมูลที่สอดคล้อง 12.50%\n",
        "4. ภาพยนต์ที่มีเวลามากกว่า 3 ชั่วโมง มีจำนวนข้อมูลที่สอดคล้อง 0.17%\n",
        "\n",
        "ดังนั้นช่วงข้อมูลที่ภาพยนต์ส่วนใหญ่มีเวลาในการเล่นอยู่ที่ มากกว่า 1 ชั่วโมงแต่น้อยกว่า 2 ช่วงโมง\n"
      ]
    },
    {
      "cell_type": "markdown",
      "metadata": {
        "id": "YXProIrOHcvN"
      },
      "source": [
        "**2.   ประเภทของภาพยนต์ที่นำมาฉายส่วนใหญ่เป็นประเภทอะไร**"
      ]
    },
    {
      "cell_type": "code",
      "metadata": {
        "colab": {
          "base_uri": "https://localhost:8080/"
        },
        "id": "gC-sl0cyHjDU",
        "outputId": "ff60fd4c-e00e-4720-f42a-ae57a5f58f2a"
      },
      "source": [
        "genre = df['Genre'].value_counts() #ตรวจสอบประเภทของภาพยนต์\n",
        "genre"
      ],
      "execution_count": null,
      "outputs": [
        {
          "output_type": "execute_result",
          "data": {
            "text/plain": [
              "Documentary        171\n",
              "Comedy             140\n",
              "Drama              114\n",
              "Horror thriller     67\n",
              "Action              28\n",
              "Musical             16\n",
              "Animation           15\n",
              "Science fiction     14\n",
              "Family              11\n",
              "Fantasy              7\n",
              "sport                1\n",
              "Name: Genre, dtype: int64"
            ]
          },
          "metadata": {},
          "execution_count": 16
        }
      ]
    },
    {
      "cell_type": "code",
      "metadata": {
        "colab": {
          "base_uri": "https://localhost:8080/",
          "height": 505
        },
        "id": "nD-k2lwcAKXj",
        "outputId": "22b7f8b5-322d-4f1a-ddf5-53a2668d993e"
      },
      "source": [
        "plt.figure(figsize=(12,7))\n",
        "sns.barplot(x=genre.index, y=genre.values, palette=\"Blues_d\")\n",
        "plt.xticks(rotation=90)\n",
        "plt.xlabel('Name of Genres')\n",
        "plt.ylabel('count')\n",
        "plt.show()"
      ],
      "execution_count": null,
      "outputs": [
        {
          "output_type": "display_data",
          "data": {
            "image/png": "[encoded data removed]",
            "text/plain": [
              "<Figure size 864x504 with 1 Axes>"
            ]
          },
          "metadata": {
            "needs_background": "light"
          }
        }
      ]
    },
    {
      "cell_type": "markdown",
      "metadata": {
        "id": "C4RknLyhKUUe"
      },
      "source": [
        "จากแผนภูมิสามารถสรปได้ว่า ประเภทของภาพยนต์ที่นำมาฉายใน Netflix ส่วนใหญ่คือ ประเภท Documentary,  Comedy,  Drama,  Horror thriller, Action ,Musical ,Animation , Science fiction , Family, Fantasy, sport  ตามลำดับ       "
      ]
    },
    {
      "cell_type": "markdown",
      "metadata": {
        "id": "0fAJR8nsBVqc"
      },
      "source": [
        "**3. ภาษาของภาพยนต์ที่นำมาฉายส่วนมากเป็นภาษาอะไร (Top 10 )**"
      ]
    },
    {
      "cell_type": "code",
      "metadata": {
        "colab": {
          "base_uri": "https://localhost:8080/"
        },
        "id": "SogecOyCBgRC",
        "outputId": "ba1095c0-6674-48d7-b8a7-23da7f993a5a"
      },
      "source": [
        "language = df.Language.value_counts()\n",
        "language[:10]"
      ],
      "execution_count": null,
      "outputs": [
        {
          "output_type": "execute_result",
          "data": {
            "text/plain": [
              "English       420\n",
              "Spanish        34\n",
              "Hindi          33\n",
              "French         20\n",
              "Italian        14\n",
              "Portuguese     12\n",
              "Indonesian      9\n",
              "Korean          6\n",
              "Japanese        6\n",
              "Turkish         5\n",
              "Name: Language, dtype: int64"
            ]
          },
          "metadata": {},
          "execution_count": 18
        }
      ]
    },
    {
      "cell_type": "code",
      "metadata": {
        "colab": {
          "base_uri": "https://localhost:8080/",
          "height": 489
        },
        "id": "lFUWtpq_B0ZX",
        "outputId": "a9f9e60f-507f-486c-cc6f-8ad113b0f329"
      },
      "source": [
        "plt.figure(figsize=(12,7))\n",
        "sns.barplot(x=language.index[:10], y=language.values[:10],  palette=\"Blues_d\")\n",
        "plt.xticks(rotation=90)\n",
        "plt.xlabel('Language')\n",
        "plt.ylabel('count')\n",
        "plt.show()"
      ],
      "execution_count": null,
      "outputs": [
        {
          "output_type": "display_data",
          "data": {
            "image/png": "[encoded data removed]",
            "text/plain": [
              "<Figure size 864x504 with 1 Axes>"
            ]
          },
          "metadata": {
            "needs_background": "light"
          }
        }
      ]
    },
    {
      "cell_type": "markdown",
      "metadata": {
        "id": "4lCjs_j5Y9bA"
      },
      "source": [
        "จากแผนภูมิแท่งสามารถสรุปได้ว่า ภาษาของภาพยนต์ที่นำมาฉายใน Netflix ส่วนใหญ่จะเป็นภาษาอังกฤษ ภาษาสเปน ภาษาฮินดี  ภาษาฝรั่งเศส ภาษาอิตาลี และภาษาโปรตุเกส  "
      ]
    },
    {
      "cell_type": "markdown",
      "metadata": {
        "id": "cImOXuK_g4q2"
      },
      "source": [
        "**4.   ภาพยนต์ที่มีคะแนนมากว่าค่าเฉลี่ย IMDB เป็นประเภทอะไร**"
      ]
    },
    {
      "cell_type": "code",
      "metadata": {
        "colab": {
          "base_uri": "https://localhost:8080/"
        },
        "id": "k4SLFmmSg-hU",
        "outputId": "a463c0b8-8e3a-488a-e2a6-f61f3b82bced"
      },
      "source": [
        "IMDB_mean = df['IMDB Score'].mean() #ค่าเฉลี่ย\n",
        "IMDB_mean"
      ],
      "execution_count": null,
      "outputs": [
        {
          "output_type": "execute_result",
          "data": {
            "text/plain": [
              "6.27174657534246"
            ]
          },
          "metadata": {},
          "execution_count": 20
        }
      ]
    },
    {
      "cell_type": "code",
      "metadata": {
        "colab": {
          "base_uri": "https://localhost:8080/",
          "height": 491
        },
        "id": "9UKnc39ljLcd",
        "outputId": "48e0404c-fe93-4e65-e456-641505565a48"
      },
      "source": [
        "df_IM_moremean = df[df['IMDB Score']>IMDB_mean] # DataFrame ของภาพยนต์ที่มีคะแนนมากกว่าค่าเฉลี่ย\n",
        "Bar_more = df_IM_moremean['Genre'].value_counts() #จะได้ประเภทของภาพยนต์ที่มีค่ามากกว่า mean\n",
        "plt.figure(figsize=(12,7))\n",
        "sns.barplot(x=Bar_more.index, y=Bar_more.values, palette=\"Blues_d\") \n",
        "plt.xticks(rotation=90)\n",
        "plt.show()"
      ],
      "execution_count": null,
      "outputs": [
        {
          "output_type": "display_data",
          "data": {
            "image/png": "[encoded data removed]",
            "text/plain": [
              "<Figure size 864x504 with 1 Axes>"
            ]
          },
          "metadata": {
            "needs_background": "light"
          }
        }
      ]
    },
    {
      "cell_type": "code",
      "metadata": {
        "colab": {
          "base_uri": "https://localhost:8080/"
        },
        "id": "T3haHPh5CHzm",
        "outputId": "d84394f8-1241-441c-9475-24c7797f9c00"
      },
      "source": [
        "Bar_more"
      ],
      "execution_count": null,
      "outputs": [
        {
          "output_type": "execute_result",
          "data": {
            "text/plain": [
              "Documentary        148\n",
              "Drama               67\n",
              "Comedy              40\n",
              "Horror thriller     18\n",
              "Action              11\n",
              "Animation           11\n",
              "Musical             10\n",
              "Science fiction      8\n",
              "Family               7\n",
              "Fantasy              2\n",
              "Name: Genre, dtype: int64"
            ]
          },
          "metadata": {},
          "execution_count": 22
        }
      ]
    },
    {
      "cell_type": "markdown",
      "metadata": {
        "id": "ur_v0nRGZaJm"
      },
      "source": [
        "จากแผนภูมิแท่งสามารถสรุปได้ว่า ภาพยนต์ที่มีคะแนนมากว่าค่าเฉลี่ย IMDB ส่วนใหญ่จะถูกจัดอยู่ในประเภท Dcoumentary, Drama และ Comedy"
      ]
    },
    {
      "cell_type": "markdown",
      "metadata": {
        "id": "bjPbSdvYDJIh"
      },
      "source": [
        "**5. จำนวนภาพยนต์ที่ออกมาในแต่ละปีมีจำนวนกี่เรื่อง**"
      ]
    },
    {
      "cell_type": "code",
      "metadata": {
        "colab": {
          "base_uri": "https://localhost:8080/",
          "height": 279
        },
        "id": "2qZ84xGSmdYR",
        "outputId": "9605f800-8c63-405a-dbd8-27acb657d5ad"
      },
      "source": [
        "movie_year = df['Year'].value_counts() #Series ชุดข้อมูลของจำนวนภาพยนต์ที่ออกมาฉายในแต่ละปี\n",
        "sns.lineplot(x=movie_year.index, y=movie_year.values, data=movie_year)\n",
        "plt.xlabel('year')\n",
        "plt.ylabel('count')\n",
        "plt.show()"
      ],
      "execution_count": null,
      "outputs": [
        {
          "output_type": "display_data",
          "data": {
            "image/png": "[encoded data removed]",
            "text/plain": [
              "<Figure size 432x288 with 1 Axes>"
            ]
          },
          "metadata": {
            "needs_background": "light"
          }
        }
      ]
    },
    {
      "cell_type": "code",
      "metadata": {
        "colab": {
          "base_uri": "https://localhost:8080/"
        },
        "id": "9rCN9eBrCBpW",
        "outputId": "df9f2835-6d80-4273-fa39-037c155b94ff"
      },
      "source": [
        "movie_year"
      ],
      "execution_count": null,
      "outputs": [
        {
          "output_type": "execute_result",
          "data": {
            "text/plain": [
              "2020    183\n",
              "2019    125\n",
              "2018     99\n",
              "2021     71\n",
              "2017     66\n",
              "2016     30\n",
              "2015      9\n",
              "2014      1\n",
              "Name: Year, dtype: int64"
            ]
          },
          "metadata": {},
          "execution_count": 24
        }
      ]
    },
    {
      "cell_type": "code",
      "metadata": {
        "colab": {
          "base_uri": "https://localhost:8080/",
          "height": 283
        },
        "id": "0MExCoguo1Cx",
        "outputId": "5d217cba-9f67-4360-a75d-a755d1095f37"
      },
      "source": [
        "sns.barplot(x=movie_year.index, y=movie_year.values, palette=\"Blues_d\")"
      ],
      "execution_count": null,
      "outputs": [
        {
          "output_type": "execute_result",
          "data": {
            "text/plain": [
              "<matplotlib.axes._subplots.AxesSubplot at 0x7fe289e47b10>"
            ]
          },
          "metadata": {},
          "execution_count": 25
        },
        {
          "output_type": "display_data",
          "data": {
            "image/png": "[encoded data removed]",
            "text/plain": [
              "<Figure size 432x288 with 1 Axes>"
            ]
          },
          "metadata": {
            "needs_background": "light"
          }
        }
      ]
    },
    {
      "cell_type": "markdown",
      "metadata": {
        "id": "ZliHz2YFpKYC"
      },
      "source": [
        "จากแผนภูมิแท่ง พบว่า ปีที่ภาพยนต์ Netflix เข้ามาในปีแรกคือ 2014 และมีจำนวนเพิ่มขึ้นเรื่อย ๆ ซี่งปีที่มีภาพยนต์นำมาฉายมากที่สุดคือปี 2020"
      ]
    },
    {
      "cell_type": "markdown",
      "metadata": {
        "id": "aI88CGM_qZ4Q"
      },
      "source": [
        "**6.ลักษณะกราฟของค่าเฉลี่ยคะแนน IMDB score ในแต่ละปีเป็นอย่างไร**"
      ]
    },
    {
      "cell_type": "code",
      "metadata": {
        "colab": {
          "base_uri": "https://localhost:8080/",
          "height": 331
        },
        "id": "nDWNpCYF-IKZ",
        "outputId": "c008dff5-ea73-4549-e902-311f919eccbc"
      },
      "source": [
        "Imdb_year = df.sort_values('Premiere') #Seies ของชุดข้อมูล Premiere\n",
        "Imdb_year.groupby(['Year']).mean() #จัดกลุ่มข้อมูลแต่ละปีแล้วนำมาหาค่าเฉลี่ย"
      ],
      "execution_count": null,
      "outputs": [
        {
          "output_type": "execute_result",
          "data": {
            "text/html": [
              "<div>\n",
              "<style scoped>\n",
              "    .dataframe tbody tr th:only-of-type {\n",
              "        vertical-align: middle;\n",
              "    }\n",
              "\n",
              "    .dataframe tbody tr th {\n",
              "        vertical-align: top;\n",
              "    }\n",
              "\n",
              "    .dataframe thead th {\n",
              "        text-align: right;\n",
              "    }\n",
              "</style>\n",
              "<table border=\"1\" class=\"dataframe\">\n",
              "  <thead>\n",
              "    <tr style=\"text-align: right;\">\n",
              "      <th></th>\n",
              "      <th>Runtime</th>\n",
              "      <th>IMDB Score</th>\n",
              "      <th>Month</th>\n",
              "      <th>Date</th>\n",
              "    </tr>\n",
              "    <tr>\n",
              "      <th>Year</th>\n",
              "      <th></th>\n",
              "      <th></th>\n",
              "      <th></th>\n",
              "      <th></th>\n",
              "    </tr>\n",
              "  </thead>\n",
              "  <tbody>\n",
              "    <tr>\n",
              "      <th>2014</th>\n",
              "      <td>81.000000</td>\n",
              "      <td>6.400000</td>\n",
              "      <td>12.000000</td>\n",
              "      <td>13.000000</td>\n",
              "    </tr>\n",
              "    <tr>\n",
              "      <th>2015</th>\n",
              "      <td>90.444444</td>\n",
              "      <td>6.877778</td>\n",
              "      <td>8.444444</td>\n",
              "      <td>16.888889</td>\n",
              "    </tr>\n",
              "    <tr>\n",
              "      <th>2016</th>\n",
              "      <td>92.200000</td>\n",
              "      <td>6.513333</td>\n",
              "      <td>8.366667</td>\n",
              "      <td>18.433333</td>\n",
              "    </tr>\n",
              "    <tr>\n",
              "      <th>2017</th>\n",
              "      <td>92.863636</td>\n",
              "      <td>6.422727</td>\n",
              "      <td>6.833333</td>\n",
              "      <td>16.909091</td>\n",
              "    </tr>\n",
              "    <tr>\n",
              "      <th>2018</th>\n",
              "      <td>95.000000</td>\n",
              "      <td>6.360606</td>\n",
              "      <td>7.202020</td>\n",
              "      <td>15.858586</td>\n",
              "    </tr>\n",
              "    <tr>\n",
              "      <th>2019</th>\n",
              "      <td>86.848000</td>\n",
              "      <td>6.259200</td>\n",
              "      <td>7.104000</td>\n",
              "      <td>16.568000</td>\n",
              "    </tr>\n",
              "    <tr>\n",
              "      <th>2020</th>\n",
              "      <td>94.994536</td>\n",
              "      <td>6.195082</td>\n",
              "      <td>7.677596</td>\n",
              "      <td>16.409836</td>\n",
              "    </tr>\n",
              "    <tr>\n",
              "      <th>2021</th>\n",
              "      <td>101.605634</td>\n",
              "      <td>6.046479</td>\n",
              "      <td>2.957746</td>\n",
              "      <td>15.056338</td>\n",
              "    </tr>\n",
              "  </tbody>\n",
              "</table>\n",
              "</div>"
            ],
            "text/plain": [
              "         Runtime  IMDB Score      Month       Date\n",
              "Year                                              \n",
              "2014   81.000000    6.400000  12.000000  13.000000\n",
              "2015   90.444444    6.877778   8.444444  16.888889\n",
              "2016   92.200000    6.513333   8.366667  18.433333\n",
              "2017   92.863636    6.422727   6.833333  16.909091\n",
              "2018   95.000000    6.360606   7.202020  15.858586\n",
              "2019   86.848000    6.259200   7.104000  16.568000\n",
              "2020   94.994536    6.195082   7.677596  16.409836\n",
              "2021  101.605634    6.046479   2.957746  15.056338"
            ]
          },
          "metadata": {},
          "execution_count": 26
        }
      ]
    },
    {
      "cell_type": "code",
      "metadata": {
        "colab": {
          "base_uri": "https://localhost:8080/",
          "height": 297
        },
        "id": "1_EeQSEf-kfJ",
        "outputId": "212be496-92af-401c-ae98-83a6edc942b5"
      },
      "source": [
        "sns.lineplot(x='Year', y='IMDB Score', data=Imdb_year) #สร้างกราฟของค่าเฉลี่ย IMDB Score แต่ละปี"
      ],
      "execution_count": null,
      "outputs": [
        {
          "output_type": "execute_result",
          "data": {
            "text/plain": [
              "<matplotlib.axes._subplots.AxesSubplot at 0x7fe28b9d3ad0>"
            ]
          },
          "metadata": {},
          "execution_count": 27
        },
        {
          "output_type": "display_data",
          "data": {
            "image/png": "[encoded data removed]",
            "text/plain": [
              "<Figure size 432x288 with 1 Axes>"
            ]
          },
          "metadata": {
            "needs_background": "light"
          }
        }
      ]
    },
    {
      "cell_type": "markdown",
      "metadata": {
        "id": "q_RRhMrTrHON"
      },
      "source": [
        "สามารถสรุปได้ว่า  ภาพยนต์ของ Netflix ได้รับความนิยม ในช่วงปี 2015 และคะแนน IMDB Score ลดลงเล็กน้อย"
      ]
    },
    {
      "cell_type": "markdown",
      "metadata": {
        "id": "3ddBHjC4DHoY"
      },
      "source": [
        "**7.จำนวนภาพยนต์ถูกนำออกมาฉายในแต่ละเดือน เดือนใดมากที่สุด**"
      ]
    },
    {
      "cell_type": "code",
      "metadata": {
        "colab": {
          "base_uri": "https://localhost:8080/"
        },
        "id": "HQq6yS-HFkqf",
        "outputId": "31047281-5498-471b-b226-2ba53f7cf60a"
      },
      "source": [
        "df_m = df.sort_values('Premiere')\n",
        "month_list = ['January','February', 'March',  'April',  'May',  'June', 'July',  'August ', 'September', 'October', \n",
        "                'November', 'December']\n",
        "item =[ df[df_m['Month'] == i+1].Title.count() for i in range(12)]\n",
        "print(item)"
      ],
      "execution_count": null,
      "outputs": [
        {
          "output_type": "stream",
          "name": "stdout",
          "text": [
            "[37, 39, 48, 63, 53, 35, 34, 37, 53, 77, 57, 51]\n"
          ]
        },
        {
          "output_type": "stream",
          "name": "stderr",
          "text": [
            "/usr/local/lib/python3.7/dist-packages/ipykernel_launcher.py:4: UserWarning: Boolean Series key will be reindexed to match DataFrame index.\n",
            "  after removing the cwd from sys.path.\n",
            "/usr/local/lib/python3.7/dist-packages/ipykernel_launcher.py:4: UserWarning: Boolean Series key will be reindexed to match DataFrame index.\n",
            "  after removing the cwd from sys.path.\n",
            "/usr/local/lib/python3.7/dist-packages/ipykernel_launcher.py:4: UserWarning: Boolean Series key will be reindexed to match DataFrame index.\n",
            "  after removing the cwd from sys.path.\n",
            "/usr/local/lib/python3.7/dist-packages/ipykernel_launcher.py:4: UserWarning: Boolean Series key will be reindexed to match DataFrame index.\n",
            "  after removing the cwd from sys.path.\n",
            "/usr/local/lib/python3.7/dist-packages/ipykernel_launcher.py:4: UserWarning: Boolean Series key will be reindexed to match DataFrame index.\n",
            "  after removing the cwd from sys.path.\n",
            "/usr/local/lib/python3.7/dist-packages/ipykernel_launcher.py:4: UserWarning: Boolean Series key will be reindexed to match DataFrame index.\n",
            "  after removing the cwd from sys.path.\n",
            "/usr/local/lib/python3.7/dist-packages/ipykernel_launcher.py:4: UserWarning: Boolean Series key will be reindexed to match DataFrame index.\n",
            "  after removing the cwd from sys.path.\n",
            "/usr/local/lib/python3.7/dist-packages/ipykernel_launcher.py:4: UserWarning: Boolean Series key will be reindexed to match DataFrame index.\n",
            "  after removing the cwd from sys.path.\n",
            "/usr/local/lib/python3.7/dist-packages/ipykernel_launcher.py:4: UserWarning: Boolean Series key will be reindexed to match DataFrame index.\n",
            "  after removing the cwd from sys.path.\n",
            "/usr/local/lib/python3.7/dist-packages/ipykernel_launcher.py:4: UserWarning: Boolean Series key will be reindexed to match DataFrame index.\n",
            "  after removing the cwd from sys.path.\n",
            "/usr/local/lib/python3.7/dist-packages/ipykernel_launcher.py:4: UserWarning: Boolean Series key will be reindexed to match DataFrame index.\n",
            "  after removing the cwd from sys.path.\n",
            "/usr/local/lib/python3.7/dist-packages/ipykernel_launcher.py:4: UserWarning: Boolean Series key will be reindexed to match DataFrame index.\n",
            "  after removing the cwd from sys.path.\n"
          ]
        }
      ]
    },
    {
      "cell_type": "code",
      "metadata": {
        "colab": {
          "base_uri": "https://localhost:8080/",
          "height": 508
        },
        "id": "XiHFjSaZJlDZ",
        "outputId": "f0e35b9e-cbd9-4863-dc7d-09f063029511"
      },
      "source": [
        "plt.figure(figsize=(12,7))\n",
        "sns.barplot(x=month_list, y=item, palette=\"Blues_d\" )\n",
        "plt.xticks(rotation=90)"
      ],
      "execution_count": null,
      "outputs": [
        {
          "output_type": "execute_result",
          "data": {
            "text/plain": [
              "(array([ 0,  1,  2,  3,  4,  5,  6,  7,  8,  9, 10, 11]),\n",
              " <a list of 12 Text major ticklabel objects>)"
            ]
          },
          "metadata": {},
          "execution_count": 29
        },
        {
          "output_type": "display_data",
          "data": {
            "image/png": "[encoded data removed]",
            "text/plain": [
              "<Figure size 864x504 with 1 Axes>"
            ]
          },
          "metadata": {
            "needs_background": "light"
          }
        }
      ]
    },
    {
      "cell_type": "markdown",
      "metadata": {
        "id": "MObr6lvnsjbf"
      },
      "source": [
        "ภาพยนตร์ต้นฉบับของ Netflix ทั้งหมดที่ออกฉายจนถึงในวันที่ 1 มิถุนายน 2021 เดือนที่มีภาพยนต์ออกมาฉายมากที่สุดคือเดือน ตุลาคม"
      ]
    },
    {
      "cell_type": "markdown",
      "metadata": {
        "id": "C5fzf_h--rrT"
      },
      "source": [
        "#**Modeling**"
      ]
    },
    {
      "cell_type": "code",
      "metadata": {
        "colab": {
          "base_uri": "https://localhost:8080/",
          "height": 206
        },
        "id": "fiJgpeOjRSyj",
        "outputId": "c6cba47b-144b-47c4-c407-d75de1889a32"
      },
      "source": [
        "dataset = df #copy ข้อมูล dataframe\n",
        "dataset.head()"
      ],
      "execution_count": null,
      "outputs": [
        {
          "output_type": "execute_result",
          "data": {
            "text/html": [
              "<div>\n",
              "<style scoped>\n",
              "    .dataframe tbody tr th:only-of-type {\n",
              "        vertical-align: middle;\n",
              "    }\n",
              "\n",
              "    .dataframe tbody tr th {\n",
              "        vertical-align: top;\n",
              "    }\n",
              "\n",
              "    .dataframe thead th {\n",
              "        text-align: right;\n",
              "    }\n",
              "</style>\n",
              "<table border=\"1\" class=\"dataframe\">\n",
              "  <thead>\n",
              "    <tr style=\"text-align: right;\">\n",
              "      <th></th>\n",
              "      <th>Title</th>\n",
              "      <th>Genre</th>\n",
              "      <th>Premiere</th>\n",
              "      <th>Runtime</th>\n",
              "      <th>IMDB Score</th>\n",
              "      <th>Language</th>\n",
              "      <th>Year</th>\n",
              "      <th>Month</th>\n",
              "      <th>Date</th>\n",
              "    </tr>\n",
              "  </thead>\n",
              "  <tbody>\n",
              "    <tr>\n",
              "      <th>0</th>\n",
              "      <td>Enter the Anime</td>\n",
              "      <td>Documentary</td>\n",
              "      <td>2019-08-05</td>\n",
              "      <td>58</td>\n",
              "      <td>2.5</td>\n",
              "      <td>English</td>\n",
              "      <td>2019</td>\n",
              "      <td>8</td>\n",
              "      <td>5</td>\n",
              "    </tr>\n",
              "    <tr>\n",
              "      <th>1</th>\n",
              "      <td>Dark Forces</td>\n",
              "      <td>Horror thriller</td>\n",
              "      <td>2020-08-21</td>\n",
              "      <td>81</td>\n",
              "      <td>2.6</td>\n",
              "      <td>Spanish</td>\n",
              "      <td>2020</td>\n",
              "      <td>8</td>\n",
              "      <td>21</td>\n",
              "    </tr>\n",
              "    <tr>\n",
              "      <th>2</th>\n",
              "      <td>The App</td>\n",
              "      <td>Drama</td>\n",
              "      <td>2019-12-26</td>\n",
              "      <td>79</td>\n",
              "      <td>2.6</td>\n",
              "      <td>Italian</td>\n",
              "      <td>2019</td>\n",
              "      <td>12</td>\n",
              "      <td>26</td>\n",
              "    </tr>\n",
              "    <tr>\n",
              "      <th>3</th>\n",
              "      <td>The Open House</td>\n",
              "      <td>Horror thriller</td>\n",
              "      <td>2018-01-19</td>\n",
              "      <td>94</td>\n",
              "      <td>3.2</td>\n",
              "      <td>English</td>\n",
              "      <td>2018</td>\n",
              "      <td>1</td>\n",
              "      <td>19</td>\n",
              "    </tr>\n",
              "    <tr>\n",
              "      <th>4</th>\n",
              "      <td>Kaali Khuhi</td>\n",
              "      <td>Horror thriller</td>\n",
              "      <td>2020-10-30</td>\n",
              "      <td>90</td>\n",
              "      <td>3.4</td>\n",
              "      <td>Hindi</td>\n",
              "      <td>2020</td>\n",
              "      <td>10</td>\n",
              "      <td>30</td>\n",
              "    </tr>\n",
              "  </tbody>\n",
              "</table>\n",
              "</div>"
            ],
            "text/plain": [
              "             Title            Genre   Premiere  ...  Year  Month Date\n",
              "0  Enter the Anime      Documentary 2019-08-05  ...  2019      8    5\n",
              "1      Dark Forces  Horror thriller 2020-08-21  ...  2020      8   21\n",
              "2          The App            Drama 2019-12-26  ...  2019     12   26\n",
              "3   The Open House  Horror thriller 2018-01-19  ...  2018      1   19\n",
              "4      Kaali Khuhi  Horror thriller 2020-10-30  ...  2020     10   30\n",
              "\n",
              "[5 rows x 9 columns]"
            ]
          },
          "metadata": {},
          "execution_count": 30
        }
      ]
    },
    {
      "cell_type": "code",
      "metadata": {
        "id": "2kWqHJr1TNTk"
      },
      "source": [
        "from sklearn.model_selection import train_test_split  #import  module ที่ใช้ในการแยกชุดข้อมูลไว้ train และ test\n",
        "from sklearn.preprocessing import LabelEncoder #การแปลงข้อความเป็นกลุ่มตัวเลข"
      ],
      "execution_count": null,
      "outputs": []
    },
    {
      "cell_type": "code",
      "metadata": {
        "colab": {
          "base_uri": "https://localhost:8080/",
          "height": 206
        },
        "id": "QyaWLvh3W681",
        "outputId": "de105790-a270-41e4-9d1e-97b46757e5c3"
      },
      "source": [
        "le = LabelEncoder()\n",
        "dataset['Genre'] = le.fit_transform(dataset['Genre'])\n",
        "dataset['Language'] = le.fit_transform(dataset['Language'])\n",
        "dataset.head()"
      ],
      "execution_count": null,
      "outputs": [
        {
          "output_type": "execute_result",
          "data": {
            "text/html": [
              "<div>\n",
              "<style scoped>\n",
              "    .dataframe tbody tr th:only-of-type {\n",
              "        vertical-align: middle;\n",
              "    }\n",
              "\n",
              "    .dataframe tbody tr th {\n",
              "        vertical-align: top;\n",
              "    }\n",
              "\n",
              "    .dataframe thead th {\n",
              "        text-align: right;\n",
              "    }\n",
              "</style>\n",
              "<table border=\"1\" class=\"dataframe\">\n",
              "  <thead>\n",
              "    <tr style=\"text-align: right;\">\n",
              "      <th></th>\n",
              "      <th>Title</th>\n",
              "      <th>Genre</th>\n",
              "      <th>Premiere</th>\n",
              "      <th>Runtime</th>\n",
              "      <th>IMDB Score</th>\n",
              "      <th>Language</th>\n",
              "      <th>Year</th>\n",
              "      <th>Month</th>\n",
              "      <th>Date</th>\n",
              "    </tr>\n",
              "  </thead>\n",
              "  <tbody>\n",
              "    <tr>\n",
              "      <th>0</th>\n",
              "      <td>Enter the Anime</td>\n",
              "      <td>3</td>\n",
              "      <td>2019-08-05</td>\n",
              "      <td>58</td>\n",
              "      <td>2.5</td>\n",
              "      <td>2</td>\n",
              "      <td>2019</td>\n",
              "      <td>8</td>\n",
              "      <td>5</td>\n",
              "    </tr>\n",
              "    <tr>\n",
              "      <th>1</th>\n",
              "      <td>Dark Forces</td>\n",
              "      <td>7</td>\n",
              "      <td>2020-08-21</td>\n",
              "      <td>81</td>\n",
              "      <td>2.6</td>\n",
              "      <td>17</td>\n",
              "      <td>2020</td>\n",
              "      <td>8</td>\n",
              "      <td>21</td>\n",
              "    </tr>\n",
              "    <tr>\n",
              "      <th>2</th>\n",
              "      <td>The App</td>\n",
              "      <td>4</td>\n",
              "      <td>2019-12-26</td>\n",
              "      <td>79</td>\n",
              "      <td>2.6</td>\n",
              "      <td>9</td>\n",
              "      <td>2019</td>\n",
              "      <td>12</td>\n",
              "      <td>26</td>\n",
              "    </tr>\n",
              "    <tr>\n",
              "      <th>3</th>\n",
              "      <td>The Open House</td>\n",
              "      <td>7</td>\n",
              "      <td>2018-01-19</td>\n",
              "      <td>94</td>\n",
              "      <td>3.2</td>\n",
              "      <td>2</td>\n",
              "      <td>2018</td>\n",
              "      <td>1</td>\n",
              "      <td>19</td>\n",
              "    </tr>\n",
              "    <tr>\n",
              "      <th>4</th>\n",
              "      <td>Kaali Khuhi</td>\n",
              "      <td>7</td>\n",
              "      <td>2020-10-30</td>\n",
              "      <td>90</td>\n",
              "      <td>3.4</td>\n",
              "      <td>7</td>\n",
              "      <td>2020</td>\n",
              "      <td>10</td>\n",
              "      <td>30</td>\n",
              "    </tr>\n",
              "  </tbody>\n",
              "</table>\n",
              "</div>"
            ],
            "text/plain": [
              "             Title  Genre   Premiere  Runtime  ...  Language  Year  Month  Date\n",
              "0  Enter the Anime      3 2019-08-05       58  ...         2  2019      8     5\n",
              "1      Dark Forces      7 2020-08-21       81  ...        17  2020      8    21\n",
              "2          The App      4 2019-12-26       79  ...         9  2019     12    26\n",
              "3   The Open House      7 2018-01-19       94  ...         2  2018      1    19\n",
              "4      Kaali Khuhi      7 2020-10-30       90  ...         7  2020     10    30\n",
              "\n",
              "[5 rows x 9 columns]"
            ]
          },
          "metadata": {},
          "execution_count": 32
        }
      ]
    },
    {
      "cell_type": "code",
      "metadata": {
        "id": "PmDhbVFeT41k"
      },
      "source": [
        "#เตรียมข้อมูลในการพยากรณ์ \n",
        "x = dataset.loc[:,['Runtime','IMDB Score', 'Language']]\n",
        "y = dataset['Genre']\n",
        "#split data แยกข้อมูลออกเป็น 2 ส่วน ส่วนที่ใช้ train และ test\n",
        "x_train, x_test, y_train, y_test = train_test_split(x,y)"
      ],
      "execution_count": null,
      "outputs": []
    },
    {
      "cell_type": "code",
      "metadata": {
        "id": "sL2oeW28cBaC"
      },
      "source": [
        "from sklearn.neighbors import  KNeighborsClassifier #impor model KNN\n",
        "\n",
        "#model\n",
        "KNN = KNeighborsClassifier(n_neighbors=7) #สร้าง object model\n",
        "#training\n",
        "KNN.fit(x_train,y_train)\n",
        "#predict\n",
        "y_pre = KNN.predict(x_test)\n"
      ],
      "execution_count": null,
      "outputs": []
    },
    {
      "cell_type": "code",
      "metadata": {
        "colab": {
          "base_uri": "https://localhost:8080/"
        },
        "id": "ef72_6ducHY8",
        "outputId": "56692bcd-d986-4004-ca64-4aa2d6847633"
      },
      "source": [
        "from sklearn.metrics import accuracy_score\n",
        "print('accuracy score :', accuracy_score(y_test,y_pre)*100) #วัดประสิทธิภาพของโมเดล"
      ],
      "execution_count": null,
      "outputs": [
        {
          "output_type": "stream",
          "name": "stdout",
          "text": [
            "accuracy score : 40.41095890410959\n"
          ]
        }
      ]
    }
  ]
}